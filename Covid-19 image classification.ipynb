{
 "cells": [
  {
   "cell_type": "raw",
   "id": "628c621d",
   "metadata": {},
   "source": [
    "Kaggle Link - https://www.kaggle.com/datasets/pranavraikokte/covid19-image-dataset"
   ]
  },
  {
   "cell_type": "code",
   "execution_count": 5,
   "id": "917b6ea6",
   "metadata": {},
   "outputs": [],
   "source": [
    "import tensorflow as tf\n",
    "import keras as ks"
   ]
  },
  {
   "cell_type": "code",
   "execution_count": 7,
   "id": "e6996dca",
   "metadata": {},
   "outputs": [
    {
     "name": "stdout",
     "output_type": "stream",
     "text": [
      "Found 251 images belonging to 3 classes.\n",
      "Found 66 images belonging to 3 classes.\n"
     ]
    }
   ],
   "source": [
    "# Preprocessing \n",
    "from keras.preprocessing.image import ImageDataGenerator\n",
    "train_gen=ImageDataGenerator(rescale=1/255,shear_range=0.2,zoom_range=0.2)\n",
    "train_set=train_gen.flow_from_directory('C:\\\\Users\\\\admin\\\\Desktop\\\\Intership tasks\\\\1 my resume Projects\\\\Covid19-dataset\\\\train',target_size=(64,64))\n",
    "test_gen=ImageDataGenerator(rescale=1/255)\n",
    "test_set=test_gen.flow_from_directory('C:\\\\Users\\\\admin\\\\Desktop\\\\Intership tasks\\\\1 my resume Projects\\\\Covid19-dataset\\\\test',target_size=(64,64))"
   ]
  },
  {
   "cell_type": "code",
   "execution_count": 10,
   "id": "c6e145a5",
   "metadata": {},
   "outputs": [
    {
     "data": {
      "text/plain": [
       "{'Covid': 0, 'Normal': 1, 'Viral Pneumonia': 2}"
      ]
     },
     "execution_count": 10,
     "metadata": {},
     "output_type": "execute_result"
    }
   ],
   "source": [
    "train_set.class_indices\n"
   ]
  },
  {
   "cell_type": "code",
   "execution_count": 23,
   "id": "aff0b448",
   "metadata": {},
   "outputs": [],
   "source": [
    "#Now Building Model\n",
    "from keras.models import Sequential\n",
    "classifier=Sequential()\n",
    "from keras.layers import Conv2D\n",
    "classifier.add(Conv2D(filters=32,kernel_size=3,activation='relu',input_shape=[64,64,3]))\n",
    "from keras.layers import MaxPooling2D\n",
    "classifier.add(MaxPooling2D(pool_size=2,strides=2))\n",
    "classifier.add(Conv2D(filters=32,kernel_size=3,activation='relu',input_shape=[64,64,3]))\n",
    "classifier.add(MaxPooling2D(pool_size=2,strides=2))\n",
    "from keras.layers import Flatten\n",
    "classifier.add(Flatten())"
   ]
  },
  {
   "cell_type": "code",
   "execution_count": 24,
   "id": "56526d60",
   "metadata": {},
   "outputs": [
    {
     "name": "stdout",
     "output_type": "stream",
     "text": [
      "Epoch 1/15\n",
      "8/8 [==============================] - 13s 2s/step - loss: 1.2439 - accuracy: 0.3347 - val_loss: 1.0259 - val_accuracy: 0.4242\n",
      "Epoch 2/15\n",
      "8/8 [==============================] - 12s 1s/step - loss: 1.0003 - accuracy: 0.5657 - val_loss: 0.9072 - val_accuracy: 0.7273\n",
      "Epoch 3/15\n",
      "8/8 [==============================] - 12s 2s/step - loss: 0.8155 - accuracy: 0.7689 - val_loss: 0.6650 - val_accuracy: 0.7727\n",
      "Epoch 4/15\n",
      "8/8 [==============================] - 12s 1s/step - loss: 0.6158 - accuracy: 0.7809 - val_loss: 0.4811 - val_accuracy: 0.8030\n",
      "Epoch 5/15\n",
      "8/8 [==============================] - 11s 1s/step - loss: 0.3975 - accuracy: 0.8606 - val_loss: 0.6285 - val_accuracy: 0.7121\n",
      "Epoch 6/15\n",
      "8/8 [==============================] - 11s 1s/step - loss: 0.3870 - accuracy: 0.8446 - val_loss: 0.2797 - val_accuracy: 0.9091\n",
      "Epoch 7/15\n",
      "8/8 [==============================] - 11s 1s/step - loss: 0.2607 - accuracy: 0.8964 - val_loss: 0.2317 - val_accuracy: 0.9091\n",
      "Epoch 8/15\n",
      "8/8 [==============================] - 12s 1s/step - loss: 0.2293 - accuracy: 0.9402 - val_loss: 0.2263 - val_accuracy: 0.9091\n",
      "Epoch 9/15\n",
      "8/8 [==============================] - 13s 2s/step - loss: 0.3041 - accuracy: 0.8805 - val_loss: 0.3272 - val_accuracy: 0.8333\n",
      "Epoch 10/15\n",
      "8/8 [==============================] - 12s 1s/step - loss: 0.2453 - accuracy: 0.9363 - val_loss: 0.2866 - val_accuracy: 0.8636\n",
      "Epoch 11/15\n",
      "8/8 [==============================] - 12s 1s/step - loss: 0.2004 - accuracy: 0.9203 - val_loss: 0.2042 - val_accuracy: 0.8788\n",
      "Epoch 12/15\n",
      "8/8 [==============================] - 12s 1s/step - loss: 0.2028 - accuracy: 0.9243 - val_loss: 0.2806 - val_accuracy: 0.8788\n",
      "Epoch 13/15\n",
      "8/8 [==============================] - 12s 1s/step - loss: 0.2631 - accuracy: 0.9084 - val_loss: 0.3574 - val_accuracy: 0.8636\n",
      "Epoch 14/15\n",
      "8/8 [==============================] - 12s 2s/step - loss: 0.2263 - accuracy: 0.9084 - val_loss: 0.1957 - val_accuracy: 0.9091\n",
      "Epoch 15/15\n",
      "8/8 [==============================] - 12s 1s/step - loss: 0.1912 - accuracy: 0.9124 - val_loss: 0.2348 - val_accuracy: 0.8939\n"
     ]
    },
    {
     "data": {
      "text/plain": [
       "<keras.callbacks.History at 0x26f87f1b6a0>"
      ]
     },
     "execution_count": 24,
     "metadata": {},
     "output_type": "execute_result"
    }
   ],
   "source": [
    "from keras.layers import Dense\n",
    "classifier.add(Dense(units=128,activation='relu'))\n",
    "classifier.add(Dense(units=3,activation='softmax'))\n",
    "classifier.compile(optimizer='adam',loss='categorical_crossentropy',metrics=['accuracy'])\n",
    "classifier.fit(x=train_set,validation_data=test_set,epochs=15,batch_size=32)"
   ]
  },
  {
   "cell_type": "code",
   "execution_count": null,
   "id": "df40ed5e",
   "metadata": {},
   "outputs": [],
   "source": [
    "# I give any one of the image for prediction "
   ]
  },
  {
   "cell_type": "markdown",
   "id": "64db11d4",
   "metadata": {},
   "source": [
    "## Making Single Prediction"
   ]
  },
  {
   "cell_type": "code",
   "execution_count": 25,
   "id": "3708f30e",
   "metadata": {},
   "outputs": [
    {
     "name": "stdout",
     "output_type": "stream",
     "text": [
      "1/1 [==============================] - 0s 76ms/step\n"
     ]
    },
    {
     "data": {
      "text/plain": [
       "array([[0., 1., 0.]], dtype=float32)"
      ]
     },
     "execution_count": 25,
     "metadata": {},
     "output_type": "execute_result"
    }
   ],
   "source": [
    "import numpy as np\n",
    "from PIL import Image\n",
    "test_image=Image.open('C:\\\\Users\\\\admin\\\\Desktop\\\\Intership tasks\\\\1 my resume Projects\\\\Covid19-dataset\\\\0101.jpeg')\n",
    "test_image=test_image.resize((64,64))\n",
    "test_image=np.array(test_image)\n",
    "test_image=np.expand_dims(test_image,axis=0)\n",
    "result=classifier.predict(test_image)\n",
    "result"
   ]
  },
  {
   "cell_type": "code",
   "execution_count": 26,
   "id": "107ceaca",
   "metadata": {},
   "outputs": [
    {
     "name": "stdout",
     "output_type": "stream",
     "text": [
      "Normal\n"
     ]
    }
   ],
   "source": [
    "if result[0][0]==1:\n",
    "    print('Covid')\n",
    "elif result[0][1]==1:\n",
    "    print('Normal')\n",
    "else:\n",
    "    print('Viral Pneumonia')"
   ]
  },
  {
   "cell_type": "code",
   "execution_count": 27,
   "id": "0c941a74",
   "metadata": {},
   "outputs": [
    {
     "name": "stdout",
     "output_type": "stream",
     "text": [
      "1/1 [==============================] - 0s 19ms/step\n",
      "Normal\n"
     ]
    }
   ],
   "source": [
    "# 2nd picture\n",
    "test_image=Image.open('C:\\\\Users\\\\admin\\\\Desktop\\\\Intership tasks\\\\1 my resume Projects\\\\Covid19-dataset\\\\0101.jpeg')\n",
    "test_image=test_image.resize((64,64))\n",
    "test_image=np.array(test_image)\n",
    "test_image=np.expand_dims(test_image,axis=0)\n",
    "result=classifier.predict(test_image)\n",
    "result\n",
    "\n",
    "if result[0][0]==1:\n",
    "    print('Covid')\n",
    "elif result[0][1]==1:\n",
    "    print('Normal')\n",
    "else:\n",
    "    print('Viral Pneumonia')"
   ]
  },
  {
   "cell_type": "code",
   "execution_count": 28,
   "id": "16b1e41f",
   "metadata": {},
   "outputs": [
    {
     "name": "stdout",
     "output_type": "stream",
     "text": [
      "1/1 [==============================] - 0s 20ms/step\n",
      "Viral Pneumonia\n"
     ]
    }
   ],
   "source": [
    "# 3rd picture\n",
    "test_image=Image.open('C:\\\\Users\\\\admin\\\\Desktop\\\\Intership tasks\\\\1 my resume Projects\\\\Covid19-dataset\\\\0114.jpeg')\n",
    "test_image=test_image.resize((64,64))\n",
    "test_image=np.array(test_image)\n",
    "test_image=np.expand_dims(test_image,axis=0)\n",
    "result=classifier.predict(test_image)\n",
    "result\n",
    "\n",
    "if result[0][0]==1:\n",
    "    print('Covid')\n",
    "elif result[0][1]==1:\n",
    "    print('Normal')\n",
    "else:\n",
    "    print('Viral Pneumonia')"
   ]
  },
  {
   "cell_type": "code",
   "execution_count": 29,
   "id": "912321a6",
   "metadata": {},
   "outputs": [
    {
     "name": "stdout",
     "output_type": "stream",
     "text": [
      "1/1 [==============================] - 0s 18ms/step\n",
      "Viral Pneumonia\n"
     ]
    }
   ],
   "source": [
    "# 4rth picture\n",
    "test_image=Image.open('C:\\\\Users\\\\admin\\\\Desktop\\\\Intership tasks\\\\1 my resume Projects\\\\Covid19-dataset\\\\0115.jpeg')\n",
    "test_image=test_image.resize((64,64))\n",
    "test_image=np.array(test_image)\n",
    "test_image=np.expand_dims(test_image,axis=0)\n",
    "result=classifier.predict(test_image)\n",
    "result\n",
    "\n",
    "if result[0][0]==1:\n",
    "    print('Covid')\n",
    "elif result[0][1]==1:\n",
    "    print('Normal')\n",
    "else:\n",
    "    print('Viral Pneumonia')"
   ]
  },
  {
   "cell_type": "code",
   "execution_count": null,
   "id": "74656b44",
   "metadata": {},
   "outputs": [],
   "source": []
  },
  {
   "cell_type": "code",
   "execution_count": null,
   "id": "0098daff",
   "metadata": {},
   "outputs": [],
   "source": []
  }
 ],
 "metadata": {
  "kernelspec": {
   "display_name": "Python 3 (ipykernel)",
   "language": "python",
   "name": "python3"
  },
  "language_info": {
   "codemirror_mode": {
    "name": "ipython",
    "version": 3
   },
   "file_extension": ".py",
   "mimetype": "text/x-python",
   "name": "python",
   "nbconvert_exporter": "python",
   "pygments_lexer": "ipython3",
   "version": "3.9.12"
  }
 },
 "nbformat": 4,
 "nbformat_minor": 5
}
